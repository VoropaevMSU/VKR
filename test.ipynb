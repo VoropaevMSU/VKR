{
 "cells": [
  {
   "cell_type": "code",
   "execution_count": 11,
   "metadata": {},
   "outputs": [],
   "source": [
    "import pyeda.inter as bdd\n",
    "import pyeda\n",
    "import variableEncoding as encode\n",
    "import equivalentCheck as eqch\n",
    "import parser\n",
    "import variableEncoding as encode\n",
    "import sys"
   ]
  },
  {
   "cell_type": "code",
   "execution_count": 22,
   "metadata": {},
   "outputs": [
    {
     "name": "stdout",
     "output_type": "stream",
     "text": [
      "Not equivalent\n",
      "{x[0]: 0, x[1]: 1, y[0]: 0, y[1]: 0}\n",
      "x = 1\n",
      "a = 0\n"
     ]
    }
   ],
   "source": [
    "# Печать ответа \n",
    "def printAnswer(f, inV):\n",
    "    if (f.satisfy_one() is None):\n",
    "        print(\"Equivalent\")\n",
    "    else:\n",
    "        print(\"Not equivalent\")\n",
    "        for way in f.satisfy_all():\n",
    "            print(way)\n",
    "            for var in way.keys():           \n",
    "                for key, value in inV.items():\n",
    "                    if value[0] == var:\n",
    "                        if way[var] == 1 or way[var] == 1 and value[1] in way and way[value[1]] == 0:\n",
    "                            print(key, \"= x\")\n",
    "                        elif value[1] in way and way[value[1]] == 0:\n",
    "                            print(key, \"= 0\")\n",
    "                        else:\n",
    "                            print(key, \"= 1\")\n",
    "                        break\n",
    "            break\n",
    "\n",
    "x = bdd.bddvars('x', 2)\n",
    "y = bdd.bddvars('y', 2)\n",
    "z = bdd.bddvars('z', 2)\n",
    "x = (x[0], x[1])\n",
    "y = (y[0], y[1])\n",
    "z = (z[0], z[1])\n",
    "\n",
    "# Первая функция из примера\n",
    "_en1b = encode.boolNand(x, y)\n",
    "\n",
    "_en2b = encode.boolNot(x)\n",
    "\n",
    "_en1 = encode.boolNot(_en1b)\n",
    "\n",
    "_n1 = encode.boolDC(z, _en1b)\n",
    "\n",
    "_n2 = encode.boolAnd(_n1, _en1)\n",
    "\n",
    "_out = encode.boolDC(_n2, _en2b)\n",
    "\n",
    "# Вторая функция из примера\n",
    "en1b  = encode.boolNand(x, y)\n",
    "\n",
    "en2b = encode.boolNot(x)\n",
    "\n",
    "n1 = encode.boolDC(z, en1b)\n",
    "\n",
    "n2 = encode.boolBuf(n1)\n",
    "\n",
    "out = encode.boolDC(n2, en2b)\n",
    "\n",
    "inV = {\"x\":(x[0], x[1]), \"a\":(y[0], y[1]), \"z\":(z[0],z[1])}\n",
    "\n",
    "f = eqch.EquivalentCheck(_out, out, inV)\n",
    "printAnswer(f, inV)\n",
    "\n"
   ]
  },
  {
   "cell_type": "code",
   "execution_count": 23,
   "metadata": {},
   "outputs": [
    {
     "name": "stdout",
     "output_type": "stream",
     "text": [
      "Equivalent\n"
     ]
    }
   ],
   "source": [
    "x1 = bdd.bddvar(\"x1\")\n",
    "x2 = bdd.bddvar(\"x2\")\n",
    "y1 = bdd.bddvar(\"y1\")\n",
    "y2 = bdd.bddvar(\"y2\")\n",
    "x = (x1, x2)\n",
    "y = (y1, y2)\n",
    "_out = encode.boolAnd(x, y)\n",
    "_out2 = encode.boolAnd(x, y)\n",
    "\n",
    "out = encode.boolAnd(x, y)\n",
    "out2 = encode.boolOr(x, y)\n",
    "\n",
    "\n",
    "inV = {\"x\":(x1, x2), \"y\":(y1,y2)}\n",
    "f = eqch.EquivalentCheck(out, _out, inV)\n",
    "printAnswer(f, inV)"
   ]
  },
  {
   "cell_type": "code",
   "execution_count": 24,
   "metadata": {
    "scrolled": false
   },
   "outputs": [
    {
     "name": "stdout",
     "output_type": "stream",
     "text": [
      "Not equivalent\n",
      "{x1: 0, x2: 0, y1: 0, y2: 1}\n",
      "x = 0\n",
      "y = 1\n"
     ]
    }
   ],
   "source": [
    "\n",
    "g = eqch.EquivalentCheck(out2, _out2, inV)\n",
    "printAnswer(g, inV)"
   ]
  },
  {
   "cell_type": "code",
   "execution_count": null,
   "metadata": {
    "scrolled": false
   },
   "outputs": [],
   "source": []
  },
  {
   "cell_type": "code",
   "execution_count": null,
   "metadata": {},
   "outputs": [],
   "source": []
  },
  {
   "cell_type": "code",
   "execution_count": null,
   "metadata": {},
   "outputs": [],
   "source": []
  },
  {
   "cell_type": "code",
   "execution_count": null,
   "metadata": {},
   "outputs": [],
   "source": []
  },
  {
   "cell_type": "code",
   "execution_count": null,
   "metadata": {},
   "outputs": [],
   "source": [
    "\n"
   ]
  },
  {
   "cell_type": "code",
   "execution_count": null,
   "metadata": {},
   "outputs": [],
   "source": []
  },
  {
   "cell_type": "code",
   "execution_count": null,
   "metadata": {},
   "outputs": [],
   "source": []
  }
 ],
 "metadata": {
  "kernelspec": {
   "display_name": "Python 3",
   "language": "python",
   "name": "python3"
  },
  "language_info": {
   "codemirror_mode": {
    "name": "ipython",
    "version": 3
   },
   "file_extension": ".py",
   "mimetype": "text/x-python",
   "name": "python",
   "nbconvert_exporter": "python",
   "pygments_lexer": "ipython3",
   "version": "3.7.3"
  }
 },
 "nbformat": 4,
 "nbformat_minor": 4
}

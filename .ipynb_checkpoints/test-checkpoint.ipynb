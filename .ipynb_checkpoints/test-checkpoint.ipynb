{
 "cells": [
  {
   "cell_type": "code",
   "execution_count": 1,
   "metadata": {},
   "outputs": [],
   "source": [
    "import pyeda.inter as bdd\n",
    "import pyeda\n",
    "import variableEncoding as encode\n",
    "import equivalentCheck as eqch"
   ]
  },
  {
   "cell_type": "markdown",
   "metadata": {},
   "source": [
    "## Печать ответа не в файл"
   ]
  },
  {
   "cell_type": "code",
   "execution_count": 16,
   "metadata": {},
   "outputs": [],
   "source": [
    "# Печать ответа \n",
    "def printAnswer(f, inV):\n",
    "    if (f.is_zero()):\n",
    "        print(\"Equivalent\")\n",
    "    else:\n",
    "        print(\"Not equivalent\")\n",
    "        for way in f.satisfy_all():\n",
    "            print(way)\n",
    "            for var in way.keys():           \n",
    "                for key, value in inV.items():\n",
    "                    if value[0] == var:\n",
    "                        if way[var] == 1 or way[var] == 1 and value[1] in way and way[value[1]] == 0:\n",
    "                            print(key, \"= x\")\n",
    "                        elif value[1] in way and way[value[1]] == 0:\n",
    "                            print(key, \"= 0\")\n",
    "                        else:\n",
    "                            print(key, \"= 1\")\n",
    "                        break\n",
    "            break"
   ]
  },
  {
   "cell_type": "markdown",
   "metadata": {},
   "source": [
    "## Тестовый пример с соревнования ICCAD 2020"
   ]
  },
  {
   "cell_type": "code",
   "execution_count": 35,
   "metadata": {},
   "outputs": [
    {
     "name": "stdout",
     "output_type": "stream",
     "text": [
      "Not equivalent\n",
      "{x[0]: 0, x[1]: 1, y[0]: 0, y[1]: 0}\n",
      "x = 1\n",
      "a = 0\n"
     ]
    }
   ],
   "source": [
    "x = bdd.bddvars('x', 2)\n",
    "y = bdd.bddvars('y', 2)\n",
    "z = bdd.bddvars('z', 2)\n",
    "x = (x[0], x[1])\n",
    "y = (y[0], y[1])\n",
    "z = (z[0], z[1])\n",
    "\n",
    "# Первая функция из примера\n",
    "_en1b = encode.boolNand(x, y)\n",
    "\n",
    "_en2b = encode.boolNot(x)\n",
    "\n",
    "_en1 = encode.boolNot(_en1b)\n",
    "\n",
    "_n1 = encode.boolDC(z, _en1b)\n",
    "\n",
    "_n2 = encode.boolAnd(_n1, _en1)\n",
    "\n",
    "_out = encode.boolDC(_n2, _en2b)\n",
    "\n",
    "# Вторая функция из примера\n",
    "en1b  = encode.boolNand(x, y)\n",
    "\n",
    "en2b = encode.boolNot(x)\n",
    "\n",
    "n1 = encode.boolDC(z, en1b)\n",
    "\n",
    "n2 = encode.boolBuf(n1)\n",
    "\n",
    "out = encode.boolDC(n2, en2b)\n",
    "\n",
    "inV = {\"x\":(x[0], x[1]), \"a\":(y[0], y[1]), \"z\":(z[0],z[1])}\n",
    "\n",
    "f = eqch.EquivalentCheck(_out, out, inV)\n",
    "printAnswer(f, inV)"
   ]
  },
  {
   "cell_type": "markdown",
   "metadata": {},
   "source": [
    "## Простой пример"
   ]
  },
  {
   "cell_type": "code",
   "execution_count": 36,
   "metadata": {},
   "outputs": [
    {
     "name": "stdout",
     "output_type": "stream",
     "text": [
      "Equivalent\n"
     ]
    }
   ],
   "source": [
    "x1 = bdd.bddvar(\"x1\")\n",
    "x2 = bdd.bddvar(\"x2\")\n",
    "y1 = bdd.bddvar(\"y1\")\n",
    "y2 = bdd.bddvar(\"y2\")\n",
    "x = (x1, x2)\n",
    "y = (y1, y2)\n",
    "_out = encode.boolAnd(x, y)\n",
    "_out2 = encode.boolAnd(x, y)\n",
    "\n",
    "out = encode.boolAnd(x, y)\n",
    "out2 = encode.boolOr(x, y)\n",
    "\n",
    "\n",
    "inV = {\"x\":(x1, x2), \"y\":(y1,y2)}\n",
    "f = eqch.EquivalentCheck(out, _out, inV)\n",
    "printAnswer(f, inV)"
   ]
  },
  {
   "cell_type": "markdown",
   "metadata": {},
   "source": [
    "## Простой пример, показывающий что программа верно нашла набор, на котором схемы не эквивалентны"
   ]
  },
  {
   "cell_type": "code",
   "execution_count": 37,
   "metadata": {
    "scrolled": false
   },
   "outputs": [
    {
     "name": "stdout",
     "output_type": "stream",
     "text": [
      "Not equivalent\n",
      "{x1: 0, x2: 0, y1: 0, y2: 1}\n",
      "x = 0\n",
      "y = 1\n"
     ]
    }
   ],
   "source": [
    "g = eqch.EquivalentCheck(out2, _out2, inV)\n",
    "printAnswer(g, inV)"
   ]
  },
  {
   "cell_type": "markdown",
   "metadata": {},
   "source": [
    "## Пример, показывающий что верно работают операторы and и or"
   ]
  },
  {
   "cell_type": "code",
   "execution_count": 38,
   "metadata": {
    "scrolled": false
   },
   "outputs": [
    {
     "name": "stdout",
     "output_type": "stream",
     "text": [
      "f1: x & z | y & z \n",
      "f2 = (x | y) & z\n",
      "Equivalent\n"
     ]
    }
   ],
   "source": [
    "z1 = bdd.bddvar(\"z1\")\n",
    "z2 = bdd.bddvar(\"z2\")\n",
    "\n",
    "z = (z1, z2)\n",
    "f = encode.boolAnd(x, z)\n",
    "\n",
    "g = encode.boolAnd(y, z)\n",
    "      \n",
    "res = encode.boolOr(g, f)\n",
    "\n",
    "f1 = encode.boolOr(x,y)\n",
    "\n",
    "res1 = encode.boolAnd(f1, z)\n",
    "\n",
    "inV = {\"x\":(x1, x2), \"y\":(y1,y2), \"z\":(z1, z2)}\n",
    "f = eqch.EquivalentCheck(res, res1, inV)\n",
    "print(\"f1: x & z | y & z \\nf2 = (x | y) & z\")\n",
    "printAnswer(f, inV)"
   ]
  },
  {
   "cell_type": "markdown",
   "metadata": {},
   "source": [
    "## Пример, показывающий что верно работает оператор _DC"
   ]
  },
  {
   "cell_type": "code",
   "execution_count": 39,
   "metadata": {},
   "outputs": [
    {
     "name": "stdout",
     "output_type": "stream",
     "text": [
      "f1 = DC\n",
      "f2 = ~yx | Xy\n",
      "Equivalent\n"
     ]
    }
   ],
   "source": [
    "x1 = bdd.bddvar(\"x1\")\n",
    "x2 = bdd.bddvar(\"x2\")\n",
    "y1 = bdd.bddvar(\"y1\")\n",
    "y2 = bdd.bddvar(\"y2\")\n",
    "x = (x1, x2)\n",
    "y = (y1, y2)\n",
    "\n",
    "res1 = encode.boolDC(x, y)\n",
    "\n",
    "a = encode.boolNot(y)\n",
    "b = encode.boolAnd(x, a)\n",
    "xValue = encode.boolX()\n",
    "c = encode.boolAnd(xValue, y)\n",
    "res2 = encode.boolOr(c, b)\n",
    "\n",
    "inV = {\"x\":(x1, x2), \"y\":(y1,y2)}\n",
    "f = eqch.EquivalentCheck(res1, res2, inV)\n",
    "print(\"f1 = DC\\nf2 = ~yx | Xy\")\n",
    "printAnswer(f, inV)"
   ]
  },
  {
   "cell_type": "markdown",
   "metadata": {},
   "source": [
    "## Пример, показывающий что верно работает оператор MUX"
   ]
  },
  {
   "cell_type": "code",
   "execution_count": 40,
   "metadata": {},
   "outputs": [
    {
     "name": "stdout",
     "output_type": "stream",
     "text": [
      "f1 = MUX\n",
      "f2 = ~zx | zy\n",
      "Equivalent\n"
     ]
    }
   ],
   "source": [
    "x1 = bdd.bddvar(\"x1\")\n",
    "x2 = bdd.bddvar(\"x2\")\n",
    "y1 = bdd.bddvar(\"y1\")\n",
    "y2 = bdd.bddvar(\"y2\")\n",
    "z1 = bdd.bddvar(\"z1\")\n",
    "z2 = bdd.bddvar(\"z2\")\n",
    "x = (x1, x2)\n",
    "y = (y1, y2)\n",
    "z = (z1, z2)\n",
    "\n",
    "res1 = encode.boolMux(x, y, z)\n",
    "\n",
    "a = encode.boolNot(z)\n",
    "b = encode.boolAnd(a, x)\n",
    "c = encode.boolAnd(z, y)\n",
    "res2 = encode.boolOr(b, c)\n",
    "\n",
    "inV = {\"x\":(x1, x2), \"y\":(y1,y2)}\n",
    "f = eqch.EquivalentCheck(res1, res2, inV)\n",
    "print(\"f1 = MUX\\nf2 = ~zx | zy\")\n",
    "printAnswer(f, inV)"
   ]
  },
  {
   "cell_type": "markdown",
   "metadata": {},
   "source": [
    "## Пример, показывающий что верно работает оператор XOR"
   ]
  },
  {
   "cell_type": "code",
   "execution_count": 41,
   "metadata": {},
   "outputs": [
    {
     "name": "stdout",
     "output_type": "stream",
     "text": [
      "f1 = x xor y\n",
      "f2 = ~xy | x~y\n",
      "Equivalent\n"
     ]
    }
   ],
   "source": [
    "x1 = bdd.bddvar(\"x1\")\n",
    "x2 = bdd.bddvar(\"x2\")\n",
    "y1 = bdd.bddvar(\"y1\")\n",
    "y2 = bdd.bddvar(\"y2\")\n",
    "x = (x1, x2)\n",
    "y = (y1, y2)\n",
    "\n",
    "res1 = encode.boolXor(x, y)\n",
    "\n",
    "a = encode.boolNot(x)\n",
    "b = encode.boolAnd(a, y)\n",
    "\n",
    "a = encode.boolNot(y)\n",
    "c = encode.boolAnd(a, x)\n",
    "res2 = encode.boolOr(c, b)\n",
    "\n",
    "inV = {\"x\":(x1, x2), \"y\":(y1,y2)}\n",
    "f = eqch.EquivalentCheck(res1, res2, inV)\n",
    "print(\"f1 = x xor y\\nf2 = ~xy | x~y\")\n",
    "printAnswer(f, inV)"
   ]
  },
  {
   "cell_type": "markdown",
   "metadata": {},
   "source": [
    "## Пример, показывающий что эквивалентность не симметричная"
   ]
  },
  {
   "cell_type": "code",
   "execution_count": 48,
   "metadata": {},
   "outputs": [
    {
     "name": "stdout",
     "output_type": "stream",
     "text": [
      "f1 = X\n",
      "f2 = ~xy | x~y\n",
      "Equivalent\n",
      "\n",
      "f1 =  ~xy | x~y\n",
      "f2 = X\n",
      "Not equivalent\n",
      "{x1: 0, y1: 0}\n",
      "x = 1\n",
      "y = 1\n"
     ]
    }
   ],
   "source": [
    "x1 = bdd.bddvar(\"x1\")\n",
    "x2 = bdd.bddvar(\"x2\")\n",
    "y1 = bdd.bddvar(\"y1\")\n",
    "y2 = bdd.bddvar(\"y2\")\n",
    "x = (x1, x2)\n",
    "y = (y1, y2)\n",
    "\n",
    "res1 = encode.boolX()\n",
    "\n",
    "a = encode.boolNot(x)\n",
    "b = encode.boolAnd(a, y)\n",
    "\n",
    "a = encode.boolNot(y)\n",
    "c = encode.boolAnd(a, x)\n",
    "res2 = encode.boolOr(c, b)\n",
    "\n",
    "inV = {\"x\":(x1, x2), \"y\":(y1,y2)}\n",
    "f = eqch.EquivalentCheck(res1, res2, inV)\n",
    "print(\"f1 = X\\nf2 = ~xy | x~y\")\n",
    "printAnswer(f, inV)\n",
    "print()\n",
    "f = eqch.EquivalentCheck(res2, res1, inV)\n",
    "print(\"f1 =  ~xy | x~y\\nf2 = X\")\n",
    "printAnswer(f, inV)"
   ]
  },
  {
   "cell_type": "markdown",
   "metadata": {},
   "source": []
  },
  {
   "cell_type": "code",
   "execution_count": null,
   "metadata": {},
   "outputs": [],
   "source": []
  },
  {
   "cell_type": "code",
   "execution_count": null,
   "metadata": {},
   "outputs": [],
   "source": []
  },
  {
   "cell_type": "code",
   "execution_count": null,
   "metadata": {},
   "outputs": [],
   "source": []
  }
 ],
 "metadata": {
  "kernelspec": {
   "display_name": "Python 3",
   "language": "python",
   "name": "python3"
  },
  "language_info": {
   "codemirror_mode": {
    "name": "ipython",
    "version": 3
   },
   "file_extension": ".py",
   "mimetype": "text/x-python",
   "name": "python",
   "nbconvert_exporter": "python",
   "pygments_lexer": "ipython3",
   "version": "3.7.3"
  }
 },
 "nbformat": 4,
 "nbformat_minor": 4
}
